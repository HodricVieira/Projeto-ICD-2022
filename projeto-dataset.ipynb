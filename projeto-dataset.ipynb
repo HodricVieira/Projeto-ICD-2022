{
 "cells": [
  {
   "cell_type": "code",
   "execution_count": 1,
   "metadata": {},
   "outputs": [
    {
     "data": {
      "text/html": [
       "<div>\n",
       "<style scoped>\n",
       "    .dataframe tbody tr th:only-of-type {\n",
       "        vertical-align: middle;\n",
       "    }\n",
       "\n",
       "    .dataframe tbody tr th {\n",
       "        vertical-align: top;\n",
       "    }\n",
       "\n",
       "    .dataframe thead th {\n",
       "        text-align: right;\n",
       "    }\n",
       "</style>\n",
       "<table border=\"1\" class=\"dataframe\">\n",
       "  <thead>\n",
       "    <tr style=\"text-align: right;\">\n",
       "      <th></th>\n",
       "      <th>Codigo</th>\n",
       "      <th>IDCliente</th>\n",
       "      <th>Genero</th>\n",
       "      <th>Aposentado</th>\n",
       "      <th>Casado</th>\n",
       "      <th>Dependentes</th>\n",
       "      <th>MesesComoCliente</th>\n",
       "      <th>ServicoTelefone</th>\n",
       "      <th>MultiplasLinhas</th>\n",
       "      <th>ServicoInternet</th>\n",
       "      <th>...</th>\n",
       "      <th>ProtecaoEquipamento</th>\n",
       "      <th>ServicoSuporteTecnico</th>\n",
       "      <th>ServicoStreamingTV</th>\n",
       "      <th>ServicoFilmes</th>\n",
       "      <th>TipoContrato</th>\n",
       "      <th>FaturaDigital</th>\n",
       "      <th>FormaPagamento</th>\n",
       "      <th>ValorMensal</th>\n",
       "      <th>TotalGasto</th>\n",
       "      <th>Churn</th>\n",
       "    </tr>\n",
       "  </thead>\n",
       "  <tbody>\n",
       "    <tr>\n",
       "      <th>0</th>\n",
       "      <td>1869</td>\n",
       "      <td>7010-BRBUU</td>\n",
       "      <td>Masculino</td>\n",
       "      <td>0</td>\n",
       "      <td>Sim</td>\n",
       "      <td>Sim</td>\n",
       "      <td>72</td>\n",
       "      <td>Sim</td>\n",
       "      <td>Sim</td>\n",
       "      <td>Nao</td>\n",
       "      <td>...</td>\n",
       "      <td>SemInternet</td>\n",
       "      <td>SemInternet</td>\n",
       "      <td>SemInternet</td>\n",
       "      <td>SemInternet</td>\n",
       "      <td>2 anos</td>\n",
       "      <td>Nao</td>\n",
       "      <td>CartaoCredito</td>\n",
       "      <td>24.10</td>\n",
       "      <td>1734.65</td>\n",
       "      <td>Nao</td>\n",
       "    </tr>\n",
       "    <tr>\n",
       "      <th>1</th>\n",
       "      <td>4528</td>\n",
       "      <td>9688-YGXVR</td>\n",
       "      <td>Feminino</td>\n",
       "      <td>0</td>\n",
       "      <td>Nao</td>\n",
       "      <td>Nao</td>\n",
       "      <td>44</td>\n",
       "      <td>Sim</td>\n",
       "      <td>Nao</td>\n",
       "      <td>Fibra</td>\n",
       "      <td>...</td>\n",
       "      <td>Sim</td>\n",
       "      <td>Nao</td>\n",
       "      <td>Sim</td>\n",
       "      <td>Nao</td>\n",
       "      <td>Mensal</td>\n",
       "      <td>Sim</td>\n",
       "      <td>CartaoCredito</td>\n",
       "      <td>88.15</td>\n",
       "      <td>3973.20</td>\n",
       "      <td>Nao</td>\n",
       "    </tr>\n",
       "    <tr>\n",
       "      <th>2</th>\n",
       "      <td>6344</td>\n",
       "      <td>9286-DOJGF</td>\n",
       "      <td>Feminino</td>\n",
       "      <td>1</td>\n",
       "      <td>Sim</td>\n",
       "      <td>Nao</td>\n",
       "      <td>38</td>\n",
       "      <td>Sim</td>\n",
       "      <td>Sim</td>\n",
       "      <td>Fibra</td>\n",
       "      <td>...</td>\n",
       "      <td>Nao</td>\n",
       "      <td>Nao</td>\n",
       "      <td>Nao</td>\n",
       "      <td>Nao</td>\n",
       "      <td>Mensal</td>\n",
       "      <td>Sim</td>\n",
       "      <td>DebitoAutomatico</td>\n",
       "      <td>74.95</td>\n",
       "      <td>2869.85</td>\n",
       "      <td>Sim</td>\n",
       "    </tr>\n",
       "    <tr>\n",
       "      <th>3</th>\n",
       "      <td>6739</td>\n",
       "      <td>6994-KERXL</td>\n",
       "      <td>Masculino</td>\n",
       "      <td>0</td>\n",
       "      <td>Nao</td>\n",
       "      <td>Nao</td>\n",
       "      <td>4</td>\n",
       "      <td>Sim</td>\n",
       "      <td>Nao</td>\n",
       "      <td>DSL</td>\n",
       "      <td>...</td>\n",
       "      <td>Nao</td>\n",
       "      <td>Nao</td>\n",
       "      <td>Nao</td>\n",
       "      <td>Sim</td>\n",
       "      <td>Mensal</td>\n",
       "      <td>Sim</td>\n",
       "      <td>BoletoEletronico</td>\n",
       "      <td>55.90</td>\n",
       "      <td>238.50</td>\n",
       "      <td>Nao</td>\n",
       "    </tr>\n",
       "    <tr>\n",
       "      <th>4</th>\n",
       "      <td>432</td>\n",
       "      <td>2181-UAESM</td>\n",
       "      <td>Masculino</td>\n",
       "      <td>0</td>\n",
       "      <td>Nao</td>\n",
       "      <td>Nao</td>\n",
       "      <td>2</td>\n",
       "      <td>Sim</td>\n",
       "      <td>Nao</td>\n",
       "      <td>DSL</td>\n",
       "      <td>...</td>\n",
       "      <td>Sim</td>\n",
       "      <td>Nao</td>\n",
       "      <td>Nao</td>\n",
       "      <td>Nao</td>\n",
       "      <td>Mensal</td>\n",
       "      <td>Nao</td>\n",
       "      <td>BoletoEletronico</td>\n",
       "      <td>53.45</td>\n",
       "      <td>119.50</td>\n",
       "      <td>Nao</td>\n",
       "    </tr>\n",
       "    <tr>\n",
       "      <th>...</th>\n",
       "      <td>...</td>\n",
       "      <td>...</td>\n",
       "      <td>...</td>\n",
       "      <td>...</td>\n",
       "      <td>...</td>\n",
       "      <td>...</td>\n",
       "      <td>...</td>\n",
       "      <td>...</td>\n",
       "      <td>...</td>\n",
       "      <td>...</td>\n",
       "      <td>...</td>\n",
       "      <td>...</td>\n",
       "      <td>...</td>\n",
       "      <td>...</td>\n",
       "      <td>...</td>\n",
       "      <td>...</td>\n",
       "      <td>...</td>\n",
       "      <td>...</td>\n",
       "      <td>...</td>\n",
       "      <td>...</td>\n",
       "      <td>...</td>\n",
       "    </tr>\n",
       "    <tr>\n",
       "      <th>5981</th>\n",
       "      <td>3772</td>\n",
       "      <td>0684-AOSIH</td>\n",
       "      <td>Masculino</td>\n",
       "      <td>0</td>\n",
       "      <td>Sim</td>\n",
       "      <td>Nao</td>\n",
       "      <td>1</td>\n",
       "      <td>Sim</td>\n",
       "      <td>Nao</td>\n",
       "      <td>Fibra</td>\n",
       "      <td>...</td>\n",
       "      <td>Nao</td>\n",
       "      <td>Nao</td>\n",
       "      <td>Sim</td>\n",
       "      <td>Sim</td>\n",
       "      <td>Mensal</td>\n",
       "      <td>Sim</td>\n",
       "      <td>BoletoEletronico</td>\n",
       "      <td>95.00</td>\n",
       "      <td>95.00</td>\n",
       "      <td>Sim</td>\n",
       "    </tr>\n",
       "    <tr>\n",
       "      <th>5982</th>\n",
       "      <td>5191</td>\n",
       "      <td>5982-PSMKW</td>\n",
       "      <td>Feminino</td>\n",
       "      <td>0</td>\n",
       "      <td>Sim</td>\n",
       "      <td>Sim</td>\n",
       "      <td>23</td>\n",
       "      <td>Sim</td>\n",
       "      <td>Sim</td>\n",
       "      <td>DSL</td>\n",
       "      <td>...</td>\n",
       "      <td>Sim</td>\n",
       "      <td>Sim</td>\n",
       "      <td>Sim</td>\n",
       "      <td>Sim</td>\n",
       "      <td>2 anos</td>\n",
       "      <td>Sim</td>\n",
       "      <td>CartaoCredito</td>\n",
       "      <td>91.10</td>\n",
       "      <td>2198.30</td>\n",
       "      <td>Nao</td>\n",
       "    </tr>\n",
       "    <tr>\n",
       "      <th>5983</th>\n",
       "      <td>5226</td>\n",
       "      <td>8044-BGWPI</td>\n",
       "      <td>Masculino</td>\n",
       "      <td>0</td>\n",
       "      <td>Sim</td>\n",
       "      <td>Sim</td>\n",
       "      <td>12</td>\n",
       "      <td>Sim</td>\n",
       "      <td>Nao</td>\n",
       "      <td>Nao</td>\n",
       "      <td>...</td>\n",
       "      <td>SemInternet</td>\n",
       "      <td>SemInternet</td>\n",
       "      <td>SemInternet</td>\n",
       "      <td>SemInternet</td>\n",
       "      <td>Mensal</td>\n",
       "      <td>Sim</td>\n",
       "      <td>BoletoEletronico</td>\n",
       "      <td>21.15</td>\n",
       "      <td>306.05</td>\n",
       "      <td>Nao</td>\n",
       "    </tr>\n",
       "    <tr>\n",
       "      <th>5984</th>\n",
       "      <td>5390</td>\n",
       "      <td>7450-NWRTR</td>\n",
       "      <td>Masculino</td>\n",
       "      <td>1</td>\n",
       "      <td>Nao</td>\n",
       "      <td>Nao</td>\n",
       "      <td>12</td>\n",
       "      <td>Sim</td>\n",
       "      <td>Sim</td>\n",
       "      <td>Fibra</td>\n",
       "      <td>...</td>\n",
       "      <td>Sim</td>\n",
       "      <td>Nao</td>\n",
       "      <td>Sim</td>\n",
       "      <td>Sim</td>\n",
       "      <td>Mensal</td>\n",
       "      <td>Sim</td>\n",
       "      <td>BoletoEletronico</td>\n",
       "      <td>99.45</td>\n",
       "      <td>1200.15</td>\n",
       "      <td>Sim</td>\n",
       "    </tr>\n",
       "    <tr>\n",
       "      <th>5985</th>\n",
       "      <td>860</td>\n",
       "      <td>4795-UXVCJ</td>\n",
       "      <td>Masculino</td>\n",
       "      <td>0</td>\n",
       "      <td>Nao</td>\n",
       "      <td>Nao</td>\n",
       "      <td>26</td>\n",
       "      <td>Sim</td>\n",
       "      <td>Nao</td>\n",
       "      <td>Nao</td>\n",
       "      <td>...</td>\n",
       "      <td>SemInternet</td>\n",
       "      <td>SemInternet</td>\n",
       "      <td>SemInternet</td>\n",
       "      <td>SemInternet</td>\n",
       "      <td>Anual</td>\n",
       "      <td>Nao</td>\n",
       "      <td>CartaoCredito</td>\n",
       "      <td>19.80</td>\n",
       "      <td>457.30</td>\n",
       "      <td>Nao</td>\n",
       "    </tr>\n",
       "  </tbody>\n",
       "</table>\n",
       "<p>5986 rows × 22 columns</p>\n",
       "</div>"
      ],
      "text/plain": [
       "      Codigo   IDCliente     Genero  Aposentado Casado Dependentes  \\\n",
       "0       1869  7010-BRBUU  Masculino           0    Sim         Sim   \n",
       "1       4528  9688-YGXVR   Feminino           0    Nao         Nao   \n",
       "2       6344  9286-DOJGF   Feminino           1    Sim         Nao   \n",
       "3       6739  6994-KERXL  Masculino           0    Nao         Nao   \n",
       "4        432  2181-UAESM  Masculino           0    Nao         Nao   \n",
       "...      ...         ...        ...         ...    ...         ...   \n",
       "5981    3772  0684-AOSIH  Masculino           0    Sim         Nao   \n",
       "5982    5191  5982-PSMKW   Feminino           0    Sim         Sim   \n",
       "5983    5226  8044-BGWPI  Masculino           0    Sim         Sim   \n",
       "5984    5390  7450-NWRTR  Masculino           1    Nao         Nao   \n",
       "5985     860  4795-UXVCJ  Masculino           0    Nao         Nao   \n",
       "\n",
       "      MesesComoCliente ServicoTelefone MultiplasLinhas ServicoInternet  ...  \\\n",
       "0                   72             Sim             Sim             Nao  ...   \n",
       "1                   44             Sim             Nao           Fibra  ...   \n",
       "2                   38             Sim             Sim           Fibra  ...   \n",
       "3                    4             Sim             Nao             DSL  ...   \n",
       "4                    2             Sim             Nao             DSL  ...   \n",
       "...                ...             ...             ...             ...  ...   \n",
       "5981                 1             Sim             Nao           Fibra  ...   \n",
       "5982                23             Sim             Sim             DSL  ...   \n",
       "5983                12             Sim             Nao             Nao  ...   \n",
       "5984                12             Sim             Sim           Fibra  ...   \n",
       "5985                26             Sim             Nao             Nao  ...   \n",
       "\n",
       "     ProtecaoEquipamento ServicoSuporteTecnico ServicoStreamingTV  \\\n",
       "0            SemInternet           SemInternet        SemInternet   \n",
       "1                    Sim                   Nao                Sim   \n",
       "2                    Nao                   Nao                Nao   \n",
       "3                    Nao                   Nao                Nao   \n",
       "4                    Sim                   Nao                Nao   \n",
       "...                  ...                   ...                ...   \n",
       "5981                 Nao                   Nao                Sim   \n",
       "5982                 Sim                   Sim                Sim   \n",
       "5983         SemInternet           SemInternet        SemInternet   \n",
       "5984                 Sim                   Nao                Sim   \n",
       "5985         SemInternet           SemInternet        SemInternet   \n",
       "\n",
       "     ServicoFilmes TipoContrato FaturaDigital    FormaPagamento ValorMensal  \\\n",
       "0      SemInternet       2 anos           Nao     CartaoCredito       24.10   \n",
       "1              Nao       Mensal           Sim     CartaoCredito       88.15   \n",
       "2              Nao       Mensal           Sim  DebitoAutomatico       74.95   \n",
       "3              Sim       Mensal           Sim  BoletoEletronico       55.90   \n",
       "4              Nao       Mensal           Nao  BoletoEletronico       53.45   \n",
       "...            ...          ...           ...               ...         ...   \n",
       "5981           Sim       Mensal           Sim  BoletoEletronico       95.00   \n",
       "5982           Sim       2 anos           Sim     CartaoCredito       91.10   \n",
       "5983   SemInternet       Mensal           Sim  BoletoEletronico       21.15   \n",
       "5984           Sim       Mensal           Sim  BoletoEletronico       99.45   \n",
       "5985   SemInternet        Anual           Nao     CartaoCredito       19.80   \n",
       "\n",
       "     TotalGasto  Churn  \n",
       "0       1734.65    Nao  \n",
       "1       3973.20    Nao  \n",
       "2       2869.85    Sim  \n",
       "3        238.50    Nao  \n",
       "4        119.50    Nao  \n",
       "...         ...    ...  \n",
       "5981      95.00    Sim  \n",
       "5982    2198.30    Nao  \n",
       "5983     306.05    Nao  \n",
       "5984    1200.15    Sim  \n",
       "5985     457.30    Nao  \n",
       "\n",
       "[5986 rows x 22 columns]"
      ]
     },
     "execution_count": 1,
     "metadata": {},
     "output_type": "execute_result"
    }
   ],
   "source": [
    "import pandas as pd\n",
    "import matplotlib.pyplot as plt\n",
    "import seaborn as sns\n",
    "\n",
    "data = pd.read_csv(\"telecom_users.csv\")\n",
    "data"
   ]
  },
  {
   "cell_type": "code",
   "execution_count": 3,
   "metadata": {},
   "outputs": [
    {
     "name": "stdout",
     "output_type": "stream",
     "text": [
      "<class 'pandas.core.frame.DataFrame'>\n",
      "RangeIndex: 5986 entries, 0 to 5985\n",
      "Data columns (total 22 columns):\n",
      " #   Column                  Non-Null Count  Dtype  \n",
      "---  ------                  --------------  -----  \n",
      " 0   Codigo                  5986 non-null   int64  \n",
      " 1   IDCliente               5986 non-null   object \n",
      " 2   Genero                  5986 non-null   object \n",
      " 3   Aposentado              5986 non-null   int64  \n",
      " 4   Casado                  5986 non-null   object \n",
      " 5   Dependentes             5985 non-null   object \n",
      " 6   MesesComoCliente        5986 non-null   int64  \n",
      " 7   ServicoTelefone         5986 non-null   object \n",
      " 8   MultiplasLinhas         5986 non-null   object \n",
      " 9   ServicoInternet         5986 non-null   object \n",
      " 10  ServicoSegurancaOnline  5986 non-null   object \n",
      " 11  ServicoBackupOnline     5986 non-null   object \n",
      " 12  ProtecaoEquipamento     5986 non-null   object \n",
      " 13  ServicoSuporteTecnico   5986 non-null   object \n",
      " 14  ServicoStreamingTV      5986 non-null   object \n",
      " 15  ServicoFilmes           5986 non-null   object \n",
      " 16  TipoContrato            5986 non-null   object \n",
      " 17  FaturaDigital           5986 non-null   object \n",
      " 18  FormaPagamento          5986 non-null   object \n",
      " 19  ValorMensal             5986 non-null   float64\n",
      " 20  TotalGasto              5976 non-null   float64\n",
      " 21  Churn                   5985 non-null   object \n",
      "dtypes: float64(2), int64(3), object(17)\n",
      "memory usage: 1.0+ MB\n"
     ]
    }
   ],
   "source": [
    "data.info()"
   ]
  },
  {
   "cell_type": "code",
   "execution_count": 4,
   "metadata": {},
   "outputs": [
    {
     "data": {
      "text/plain": [
       "MesesComoCliente      32.468760\n",
       "ValorMensal           64.802213\n",
       "TotalGasto          2298.060617\n",
       "dtype: float64"
      ]
     },
     "execution_count": 4,
     "metadata": {},
     "output_type": "execute_result"
    }
   ],
   "source": [
    "#média\n",
    "valoresdata = data[[\"MesesComoCliente\",\"ValorMensal\",\"TotalGasto\"]]\n",
    "valoresdata.mean()"
   ]
  },
  {
   "cell_type": "code",
   "execution_count": 5,
   "metadata": {},
   "outputs": [
    {
     "data": {
      "text/plain": [
       "MesesComoCliente      29.00\n",
       "ValorMensal           70.40\n",
       "TotalGasto          1412.15\n",
       "dtype: float64"
      ]
     },
     "execution_count": 5,
     "metadata": {},
     "output_type": "execute_result"
    }
   ],
   "source": [
    "#Mediana\n",
    "valoresdata.median()\n"
   ]
  },
  {
   "cell_type": "code",
   "execution_count": 6,
   "metadata": {},
   "outputs": [
    {
     "data": {
      "text/html": [
       "<div>\n",
       "<style scoped>\n",
       "    .dataframe tbody tr th:only-of-type {\n",
       "        vertical-align: middle;\n",
       "    }\n",
       "\n",
       "    .dataframe tbody tr th {\n",
       "        vertical-align: top;\n",
       "    }\n",
       "\n",
       "    .dataframe thead th {\n",
       "        text-align: right;\n",
       "    }\n",
       "</style>\n",
       "<table border=\"1\" class=\"dataframe\">\n",
       "  <thead>\n",
       "    <tr style=\"text-align: right;\">\n",
       "      <th></th>\n",
       "      <th>Genero</th>\n",
       "      <th>Aposentado</th>\n",
       "      <th>Casado</th>\n",
       "      <th>Dependentes</th>\n",
       "      <th>MesesComoCliente</th>\n",
       "      <th>ServicoTelefone</th>\n",
       "      <th>MultiplasLinhas</th>\n",
       "      <th>ServicoInternet</th>\n",
       "      <th>ServicoSegurancaOnline</th>\n",
       "      <th>ServicoBackupOnline</th>\n",
       "      <th>ProtecaoEquipamento</th>\n",
       "      <th>ServicoSuporteTecnico</th>\n",
       "      <th>ServicoStreamingTV</th>\n",
       "      <th>ServicoFilmes</th>\n",
       "      <th>TipoContrato</th>\n",
       "      <th>FaturaDigital</th>\n",
       "      <th>FormaPagamento</th>\n",
       "      <th>ValorMensal</th>\n",
       "      <th>TotalGasto</th>\n",
       "      <th>Churn</th>\n",
       "    </tr>\n",
       "  </thead>\n",
       "  <tbody>\n",
       "    <tr>\n",
       "      <th>0</th>\n",
       "      <td>Masculino</td>\n",
       "      <td>0</td>\n",
       "      <td>Nao</td>\n",
       "      <td>Nao</td>\n",
       "      <td>1</td>\n",
       "      <td>Sim</td>\n",
       "      <td>Nao</td>\n",
       "      <td>Fibra</td>\n",
       "      <td>Nao</td>\n",
       "      <td>Nao</td>\n",
       "      <td>Nao</td>\n",
       "      <td>Nao</td>\n",
       "      <td>Nao</td>\n",
       "      <td>Nao</td>\n",
       "      <td>Mensal</td>\n",
       "      <td>Sim</td>\n",
       "      <td>BoletoEletronico</td>\n",
       "      <td>20.05</td>\n",
       "      <td>20.2</td>\n",
       "      <td>Nao</td>\n",
       "    </tr>\n",
       "  </tbody>\n",
       "</table>\n",
       "</div>"
      ],
      "text/plain": [
       "      Genero  Aposentado Casado Dependentes  MesesComoCliente ServicoTelefone  \\\n",
       "0  Masculino           0    Nao         Nao                 1             Sim   \n",
       "\n",
       "  MultiplasLinhas ServicoInternet ServicoSegurancaOnline ServicoBackupOnline  \\\n",
       "0             Nao           Fibra                    Nao                 Nao   \n",
       "\n",
       "  ProtecaoEquipamento ServicoSuporteTecnico ServicoStreamingTV ServicoFilmes  \\\n",
       "0                 Nao                   Nao                Nao           Nao   \n",
       "\n",
       "  TipoContrato FaturaDigital    FormaPagamento  ValorMensal  TotalGasto Churn  \n",
       "0       Mensal           Sim  BoletoEletronico        20.05        20.2   Nao  "
      ]
     },
     "execution_count": 6,
     "metadata": {},
     "output_type": "execute_result"
    }
   ],
   "source": [
    "#Moda\n",
    "datamode = data.drop(columns=[\"Codigo\", \"IDCliente\"])\n",
    "datamode.mode()"
   ]
  },
  {
   "cell_type": "code",
   "execution_count": 7,
   "metadata": {},
   "outputs": [
    {
     "name": "stdout",
     "output_type": "stream",
     "text": [
      "5171654.364593108\n",
      "601.0534098918083\n",
      "906.8952544981033\n"
     ]
    }
   ],
   "source": [
    "#variância\n",
    "print(data[\"TotalGasto\"].var())\n",
    "print(data[\"MesesComoCliente\"].var())\n",
    "print(data[\"ValorMensal\"].var())\n"
   ]
  },
  {
   "cell_type": "code",
   "execution_count": 8,
   "metadata": {},
   "outputs": [
    {
     "name": "stdout",
     "output_type": "stream",
     "text": [
      "1908.6029405523702\n",
      "21.82108325149818\n",
      "26.263588438732587\n"
     ]
    },
    {
     "name": "stderr",
     "output_type": "stream",
     "text": [
      "C:\\Users\\rodri\\AppData\\Local\\Temp\\ipykernel_5092\\1378698682.py:2: FutureWarning: The 'mad' method is deprecated and will be removed in a future version. To compute the same result, you may do `(df - df.mean()).abs().mean()`.\n",
      "  print(data[\"TotalGasto\"].mad())\n",
      "C:\\Users\\rodri\\AppData\\Local\\Temp\\ipykernel_5092\\1378698682.py:3: FutureWarning: The 'mad' method is deprecated and will be removed in a future version. To compute the same result, you may do `(df - df.mean()).abs().mean()`.\n",
      "  print(data[\"MesesComoCliente\"].mad())\n",
      "C:\\Users\\rodri\\AppData\\Local\\Temp\\ipykernel_5092\\1378698682.py:4: FutureWarning: The 'mad' method is deprecated and will be removed in a future version. To compute the same result, you may do `(df - df.mean()).abs().mean()`.\n",
      "  print(data[\"ValorMensal\"].mad())\n"
     ]
    }
   ],
   "source": [
    "#Desvio Absoluto\n",
    "print(data[\"TotalGasto\"].mad())\n",
    "print(data[\"MesesComoCliente\"].mad())\n",
    "print(data[\"ValorMensal\"].mad())"
   ]
  },
  {
   "cell_type": "code",
   "execution_count": 9,
   "metadata": {},
   "outputs": [
    {
     "name": "stdout",
     "output_type": "stream",
     "text": [
      "2274.1271654402067\n",
      "24.51639063752673\n",
      "30.114701633888114\n"
     ]
    }
   ],
   "source": [
    "#Desvio Padrão\n",
    "print(data[\"TotalGasto\"].std())\n",
    "print(data[\"MesesComoCliente\"].std())\n",
    "print(data[\"ValorMensal\"].std())"
   ]
  },
  {
   "cell_type": "code",
   "execution_count": 5,
   "metadata": {},
   "outputs": [
    {
     "data": {
      "text/plain": [
       "<AxesSubplot:ylabel='TotalGasto'>"
      ]
     },
     "execution_count": 5,
     "metadata": {},
     "output_type": "execute_result"
    },
    {
     "data": {
      "image/png": "[encoded data removed]",
      "text/plain": [
       "<Figure size 432x288 with 1 Axes>"
      ]
     },
     "metadata": {
      "needs_background": "light"
     },
     "output_type": "display_data"
    }
   ],
   "source": [
    "sns.boxplot(y=data[\"TotalGasto\"])"
   ]
  },
  {
   "cell_type": "code",
   "execution_count": 6,
   "metadata": {},
   "outputs": [
    {
     "data": {
      "text/plain": [
       "<AxesSubplot:ylabel='ValorMensal'>"
      ]
     },
     "execution_count": 6,
     "metadata": {},
     "output_type": "execute_result"
    },
    {
     "data": {
      "image/png": "[encoded data removed]",
      "text/plain": [
       "<Figure size 432x288 with 1 Axes>"
      ]
     },
     "metadata": {
      "needs_background": "light"
     },
     "output_type": "display_data"
    }
   ],
   "source": [
    "sns.boxplot(y=data[\"ValorMensal\"])"
   ]
  },
  {
   "cell_type": "code",
   "execution_count": 7,
   "metadata": {},
   "outputs": [
    {
     "data": {
      "text/plain": [
       "<AxesSubplot:ylabel='MesesComoCliente'>"
      ]
     },
     "execution_count": 7,
     "metadata": {},
     "output_type": "execute_result"
    },
    {
     "data": {
      "image/png": "[encoded data removed]",
      "text/plain": [
       "<Figure size 432x288 with 1 Axes>"
      ]
     },
     "metadata": {
      "needs_background": "light"
     },
     "output_type": "display_data"
    }
   ],
   "source": [
    "sns.boxplot(y=data[\"MesesComoCliente\"])"
   ]
  },
  {
   "cell_type": "code",
   "execution_count": 8,
   "metadata": {},
   "outputs": [
    {
     "data": {
      "image/png": "[encoded data removed]",
      "text/plain": [
       "<Figure size 648x576 with 2 Axes>"
      ]
     },
     "metadata": {
      "needs_background": "light"
     },
     "output_type": "display_data"
    }
   ],
   "source": [
    "corrmat = data.corr()\n",
    "  \n",
    "f, ax = plt.subplots(figsize =(9, 8))\n",
    "sns.heatmap(corrmat, ax = ax, cmap =\"YlGnBu\", linewidths = 0.1)\n",
    "plt.show()"
   ]
  },
  {
   "cell_type": "code",
   "execution_count": 9,
   "metadata": {},
   "outputs": [],
   "source": [
    "sns.heatmap?"
   ]
  },
  {
   "cell_type": "markdown",
   "metadata": {},
   "source": [
    "## Conhencendo o cliente"
   ]
  },
  {
   "cell_type": "code",
   "execution_count": 14,
   "metadata": {},
   "outputs": [
    {
     "data": {
      "image/png": "[encoded data removed]",
      "text/plain": [
       "<Figure size 640x480 with 1 Axes>"
      ]
     },
     "metadata": {},
     "output_type": "display_data"
    }
   ],
   "source": [
    "#quantidade de clientes por gênero\n",
    "genero = data[\"Genero\"].value_counts()\n",
    "genero.plot.bar()\n",
    "plt.show()"
   ]
  },
  {
   "cell_type": "code",
   "execution_count": 15,
   "metadata": {},
   "outputs": [
    {
     "data": {
      "image/png": "[encoded data removed]",
      "text/plain": [
       "<Figure size 640x480 with 1 Axes>"
      ]
     },
     "metadata": {},
     "output_type": "display_data"
    }
   ],
   "source": [
    "#aposentado\n",
    "aposentado = data[\"Aposentado\"].value_counts()\n",
    "aposentado.plot.bar()\n",
    "plt.show()"
   ]
  },
  {
   "cell_type": "code",
   "execution_count": 16,
   "metadata": {},
   "outputs": [
    {
     "data": {
      "image/png": "[encoded data removed]",
      "text/plain": [
       "<Figure size 640x480 with 1 Axes>"
      ]
     },
     "metadata": {},
     "output_type": "display_data"
    }
   ],
   "source": [
    "#dependentes\n",
    "dependentes = data[\"Dependentes\"].value_counts()\n",
    "dependentes.plot.bar()\n",
    "plt.show()"
   ]
  },
  {
   "cell_type": "code",
   "execution_count": 17,
   "metadata": {},
   "outputs": [
    {
     "data": {
      "image/png": "[encoded data removed]",
      "text/plain": [
       "<Figure size 640x480 with 1 Axes>"
      ]
     },
     "metadata": {},
     "output_type": "display_data"
    }
   ],
   "source": [
    "#Média por tipo de contrato\n",
    "tipo_contrato = data[[\"TipoContrato\", \"ValorMensal\"]].groupby('TipoContrato').mean()\n",
    "tipo_contrato.plot.bar()\n",
    "plt.show()"
   ]
  },
  {
   "cell_type": "code",
   "execution_count": 18,
   "metadata": {},
   "outputs": [
    {
     "data": {
      "image/png": "[encoded data removed]",
      "text/plain": [
       "<Figure size 640x480 with 1 Axes>"
      ]
     },
     "metadata": {},
     "output_type": "display_data"
    }
   ],
   "source": [
    "#Média de mensalidade por forma de pagamento\n",
    "forma_pagamento = data[[\"FormaPagamento\", \"ValorMensal\"]].groupby('FormaPagamento').mean()\n",
    "forma_pagamento.plot.bar()\n",
    "plt.show()"
   ]
  }
 ],
 "metadata": {
  "kernelspec": {
   "display_name": "Python 3 (ipykernel)",
   "language": "python",
   "name": "python3"
  },
  "language_info": {
   "codemirror_mode": {
    "name": "ipython",
    "version": 3
   },
   "file_extension": ".py",
   "mimetype": "text/x-python",
   "name": "python",
   "nbconvert_exporter": "python",
   "pygments_lexer": "ipython3",
   "version": "3.9.12"
  },
  "vscode": {
   "interpreter": {
    "hash": "6e3977c52f5249dbc2a33b897faad1e0916758085298811edbd14ed6ad707d81"
   }
  }
 },
 "nbformat": 4,
 "nbformat_minor": 2
}
